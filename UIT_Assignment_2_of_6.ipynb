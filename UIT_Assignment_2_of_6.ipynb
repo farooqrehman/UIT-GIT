{
 "cells": [
  {
   "cell_type": "code",
   "execution_count": 1,
   "metadata": {},
   "outputs": [
    {
     "data": {
      "text/plain": [
       "'Helloing'"
      ]
     },
     "execution_count": 1,
     "metadata": {},
     "output_type": "execute_result"
    }
   ],
   "source": [
    "# D. verbing\n",
    "# Given a string, if its length is at least 3,\n",
    "# add 'ing' to its end.\n",
    "# Unless it already ends in 'ing', in which case\n",
    "# add 'ly' instead.\n",
    "# If the string length is less than 3, leave it unchanged.\n",
    "# Return the resulting string.\n",
    "def verbing(s):\n",
    "  if len(s) < 3 :\n",
    "    return s\n",
    "  elif s.endswith(\"ing\") :\n",
    "    return s + \"ly\"\n",
    "  else :\n",
    "    return s + \"ing\"\n",
    "\n",
    "verbing(\"Hello\")"
   ]
  },
  {
   "cell_type": "code",
   "execution_count": 2,
   "metadata": {},
   "outputs": [
    {
     "data": {
      "text/plain": [
       "'This dinner is not that!'"
      ]
     },
     "execution_count": 2,
     "metadata": {},
     "output_type": "execute_result"
    }
   ],
   "source": [
    "# E. not_bad\n",
    "# Given a string, find the first appearance of the\n",
    "# substring 'not' and 'bad'. If the 'bad' follows\n",
    "# the 'not', replace the whole 'not'...'bad' substring\n",
    "# with 'good'.\n",
    "# Return the resulting string.\n",
    "# So 'This dinner is not that bad!' yields:\n",
    "# This dinner is good!\n",
    "def not_bad(s):\n",
    "    if s.find(\"not\") < s.find(\"bad\"):\n",
    "        return s.replace(s[s.index(\"not\"):s.index(\"bad\")+3],\"good\")\n",
    "    else:\n",
    "        return s\n",
    "not_bad(\"This dinner is not that!\")\n"
   ]
  },
  {
   "cell_type": "code",
   "execution_count": 3,
   "metadata": {},
   "outputs": [
    {
     "data": {
      "text/plain": [
       "'HelWorlold!'"
      ]
     },
     "execution_count": 3,
     "metadata": {},
     "output_type": "execute_result"
    }
   ],
   "source": [
    "# F. front_back\n",
    "# Consider dividing a string into two halves.\n",
    "# If the length is even, the front and back halves are the same length.\n",
    "# If the length is odd, we'll say that the extra char goes in the front half.\n",
    "# e.g. 'abcde', the front half is 'abc', the back half 'de'.\n",
    "# Given 2 strings, a and b, return a string of the form\n",
    "#  a-front + b-front + a-back + b-back\n",
    "def front_back(a, b):\n",
    "  if len(a) % 2 == 0 : \n",
    "    a_fr = a[:int(len(a)/2)] \n",
    "    a_ba = a[int(len(a)/2):]\n",
    "  else :\n",
    "    a_fr = a[:int(len(a)/2+1)]\n",
    "    a_ba = a[int(len(a)/2)+1:]\n",
    "\n",
    "  if len(b) % 2 == 0 : \n",
    "    b_fr = b[:int(len(b)/2)] \n",
    "    b_ba = b[int(len(b)/2):]\n",
    "  else :\n",
    "    b_fr = b[:int(len(b)/2+1)]\n",
    "    b_ba = b[int(len(b)/2)+1:]\n",
    "    \n",
    "  return a_fr + b_fr + a_ba + b_ba \n",
    "\n",
    "front_back(\"Hello\",\"World!\")\n"
   ]
  },
  {
   "cell_type": "code",
   "execution_count": 4,
   "metadata": {},
   "outputs": [
    {
     "name": "stdout",
     "output_type": "stream",
     "text": [
      "verbing\n",
      " OK  got: 'hailing' expected: 'hailing'\n",
      " OK  got: 'swimingly' expected: 'swimingly'\n",
      " OK  got: 'do' expected: 'do'\n",
      "\n",
      "not_bad\n",
      " OK  got: 'This movie is good' expected: 'This movie is good'\n",
      " OK  got: 'This dinner is good!' expected: 'This dinner is good!'\n",
      " OK  got: 'This tea is not hot' expected: 'This tea is not hot'\n",
      " OK  got: \"It's bad yet not\" expected: \"It's bad yet not\"\n",
      "\n",
      "front_back\n",
      " OK  got: 'abxcdy' expected: 'abxcdy'\n",
      " OK  got: 'abcxydez' expected: 'abcxydez'\n",
      " OK  got: 'KitDontenut' expected: 'KitDontenut'\n"
     ]
    }
   ],
   "source": [
    "# Simple provided test() function used in main() to print\n",
    "# what each function returns vs. what it's supposed to return.\n",
    "def test(got, expected):\n",
    "  if got == expected:\n",
    "    prefix = ' OK '\n",
    "  else:\n",
    "    prefix = '  X '\n",
    "  print('%s got: %s expected: %s' % (prefix, repr(got), repr(expected)))\n",
    "\n",
    "\n",
    "# main() calls the above functions with interesting inputs,\n",
    "# using the above test() to check if the result is correct or not.\n",
    "def main():\n",
    "  print('verbing')\n",
    "  test(verbing('hail'), 'hailing')\n",
    "  test(verbing('swiming'), 'swimingly')\n",
    "  test(verbing('do'), 'do')\n",
    "\n",
    "  \n",
    "  print('\\nnot_bad')\n",
    "  test(not_bad('This movie is not so bad'), 'This movie is good')\n",
    "  test(not_bad('This dinner is not that bad!'), 'This dinner is good!')\n",
    "  test(not_bad('This tea is not hot'), 'This tea is not hot')\n",
    "  test(not_bad(\"It's bad yet not\"), \"It's bad yet not\")\n",
    "\n",
    "  \n",
    "  print ('\\nfront_back')\n",
    "  test(front_back('abcd', 'xy'), 'abxcdy')\n",
    "  test(front_back('abcde', 'xyz'), 'abcxydez')\n",
    "  test(front_back('Kitten', 'Donut'), 'KitDontenut')\n",
    "\n",
    "if __name__ == '__main__':\n",
    "  main()\n"
   ]
  },
  {
   "cell_type": "code",
   "execution_count": null,
   "metadata": {},
   "outputs": [],
   "source": []
  }
 ],
 "metadata": {
  "kernelspec": {
   "display_name": "Python 3",
   "language": "python",
   "name": "python3"
  },
  "language_info": {
   "codemirror_mode": {
    "name": "ipython",
    "version": 3
   },
   "file_extension": ".py",
   "mimetype": "text/x-python",
   "name": "python",
   "nbconvert_exporter": "python",
   "pygments_lexer": "ipython3",
   "version": "3.7.0"
  }
 },
 "nbformat": 4,
 "nbformat_minor": 2
}
