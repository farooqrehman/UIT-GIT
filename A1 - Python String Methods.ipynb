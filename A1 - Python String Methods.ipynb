{
 "cells": [
  {
   "cell_type": "code",
   "execution_count": 1,
   "metadata": {
    "scrolled": true
   },
   "outputs": [
    {
     "name": "stdout",
     "output_type": "stream",
     "text": [
      " Farooq  ur  Rehman \n"
     ]
    }
   ],
   "source": [
    "name = \" Farooq  ur  Rehman \"\n",
    "print(name)"
   ]
  },
  {
   "cell_type": "markdown",
   "metadata": {},
   "source": [
    "# Removing White Spaces from a String"
   ]
  },
  {
   "cell_type": "code",
   "execution_count": 2,
   "metadata": {},
   "outputs": [
    {
     "data": {
      "text/plain": [
       "'Farooq ur Rehman'"
      ]
     },
     "execution_count": 2,
     "metadata": {},
     "output_type": "execute_result"
    }
   ],
   "source": [
    "\" \".join(name.split())"
   ]
  },
  {
   "cell_type": "markdown",
   "metadata": {},
   "source": [
    "# Python String Functions"
   ]
  },
  {
   "cell_type": "code",
   "execution_count": 3,
   "metadata": {},
   "outputs": [
    {
     "name": "stdout",
     "output_type": "stream",
     "text": [
      "capitalize() >>  farooq  ur  rehman \n",
      "casefold()   >>  farooq  ur  rehman \n",
      "center()     >>  Farooq  ur  Rehman \n",
      "count()      >> 6\n",
      "encode()     >> b' Farooq  ur  Rehman '\n",
      "endswith()   >> False\n",
      "expandtabs() >>  Farooq  ur  Rehman \n",
      "find()       >> 13\n",
      "index()      >> 9\n"
     ]
    }
   ],
   "source": [
    "print(\"capitalize() >> \" + name.capitalize())\n",
    "print(\"casefold()   >> \" + name.casefold())\n",
    "print(\"center()     >> \" + name.center(1))\n",
    "print(\"count()      >> \" + str(name.count(\" \")))\n",
    "print(\"encode()     >> \" + str(name.encode()))\n",
    "print(\"endswith()   >> \" + str(name.endswith(\"a\")))\n",
    "print(\"expandtabs() >> \" + name.expandtabs())\n",
    "print(\"find()       >> \" + str(name.find(\"R\")))\n",
    "print(\"index()      >> \" + str(name.index(\"ur\")))\n"
   ]
  },
  {
   "cell_type": "markdown",
   "metadata": {},
   "source": [
    "# Format Functions"
   ]
  },
  {
   "cell_type": "code",
   "execution_count": 4,
   "metadata": {
    "scrolled": true
   },
   "outputs": [
    {
     "name": "stdout",
     "output_type": "stream",
     "text": [
      "format() >>  Farooq  ur  Rehman Assignment No. 1 for UIT-AI class\n",
      "format_map() >>  Farooq  ur  Rehman Assignment No. 1 for UIT-AI class\n"
     ]
    }
   ],
   "source": [
    "name_1=name + \"Assignment No. {} for {} class\"\n",
    "print(\"format() >> \" + name_1.format(1,\"UIT-AI\"))\n",
    "\n",
    "name_1=name + \"Assignment No. {x} for {y} class\"\n",
    "format_dict={'x':'1','y':'UIT-AI'}\n",
    "print(\"format_map() >> \" + name_1.format_map(format_dict))"
   ]
  },
  {
   "cell_type": "markdown",
   "metadata": {},
   "source": [
    "# Boolean Functions"
   ]
  },
  {
   "cell_type": "code",
   "execution_count": 5,
   "metadata": {
    "scrolled": true
   },
   "outputs": [
    {
     "name": "stdout",
     "output_type": "stream",
     "text": [
      "isalnum()       >> False\n",
      "isalpha()       >> False\n",
      "isascii()       >> True\n",
      "isdecimal()     >> False\n",
      "isdigit()       >> False\n",
      "isidentifier()  >> False\n",
      "islower()       >> False\n",
      "isnumeric()     >> False\n",
      "isprintable()   >> True\n",
      "isspace()       >> False\n",
      "istitle()       >> False\n",
      "isupper()       >> False\n"
     ]
    }
   ],
   "source": [
    "print(\"isalnum()       >> \" + str(name.isalnum()))\n",
    "print(\"isalpha()       >> \" + str(name.isalpha()))\n",
    "print(\"isascii()       >> \" + str(name.isascii()))\n",
    "print(\"isdecimal()     >> \" + str(name.isdecimal()))\n",
    "print(\"isdigit()       >> \" + str(name.isdigit()))\n",
    "print(\"isidentifier()  >> \" + str(name.isidentifier()))\n",
    "print(\"islower()       >> \" + str(name.islower()))\n",
    "print(\"isnumeric()     >> \" + str(name.isnumeric()))\n",
    "print(\"isprintable()   >> \" + str(name.isprintable()))\n",
    "print(\"isspace()       >> \" + str(name.isspace()))\n",
    "print(\"istitle()       >> \" + str(name.istitle()))\n",
    "print(\"isupper()       >> \" + str(name.isupper()))\n"
   ]
  },
  {
   "cell_type": "markdown",
   "metadata": {},
   "source": [
    "## Functions Continued.."
   ]
  },
  {
   "cell_type": "code",
   "execution_count": 6,
   "metadata": {
    "scrolled": true
   },
   "outputs": [
    {
     "name": "stdout",
     "output_type": "stream",
     "text": [
      "join()       >> 1 Farooq  ur  Rehman 2 Farooq  ur  Rehman 3 Farooq  ur  Rehman 4\n",
      "ljust()      >>  Farooq  ur  Rehman \n",
      "lower()      >>  farooq  ur  rehman \n",
      "lstrip()     >> Farooq  ur  Rehman \n",
      "maketrans()  >> {97: 'Hello', 98: 'World'}\n",
      "partition()  >> ('Farooq', ' ', ' ur  Rehman')\n",
      "replace()    >> Farooq11ur11Rehman\n"
     ]
    }
   ],
   "source": [
    "print(\"join()       >> \" + name.join(\"1234\"))\n",
    "print(\"ljust()      >> \" + name.ljust(0))\n",
    "print(\"lower()      >> \" + str(name.lower()))\n",
    "print(\"lstrip()     >> \" + str(name.lstrip()))\n",
    "print(\"maketrans()  >> \" + str(name.maketrans({'a':'Hello','b':'World'})))\n",
    "print(\"partition()  >> \" + str(name.strip().partition(\" \")))\n",
    "print(\"replace()    >> \" + name.strip().replace(\" \",\"1\"))\n"
   ]
  },
  {
   "cell_type": "markdown",
   "metadata": {},
   "source": [
    "# 'r' Functions"
   ]
  },
  {
   "cell_type": "code",
   "execution_count": 7,
   "metadata": {},
   "outputs": [
    {
     "name": "stdout",
     "output_type": "stream",
     "text": [
      "rfind()      >> 10\n",
      "rindex()     >> 17\n",
      "rjust()      >> xxxxx Farooq  ur  Rehman \n",
      "rpartition() >> ('Farooq  ur ', ' ', 'Rehman')\n",
      "rsplit()     >> ['Farooq', 'ur', 'Rehman']\n",
      "rstrip()     >>  Farooq  ur  Rehman\n"
     ]
    }
   ],
   "source": [
    "print(\"rfind()      >> \" + str(name.rfind(\"r\")))\n",
    "print(\"rindex()     >> \" + str(name.rindex(\"a\")))\n",
    "print(\"rjust()      >> \" + str(name.rjust(25,\"x\")))\n",
    "print(\"rpartition() >> \" + str(name.strip().rpartition(\" \")))\n",
    "print(\"rsplit()     >> \" + str(name.rsplit()))\n",
    "print(\"rstrip()     >> \" + str(name.rstrip()))\n"
   ]
  },
  {
   "cell_type": "markdown",
   "metadata": {},
   "source": [
    "## Functions Continued.."
   ]
  },
  {
   "cell_type": "code",
   "execution_count": 8,
   "metadata": {},
   "outputs": [
    {
     "name": "stdout",
     "output_type": "stream",
     "text": [
      "split()      >> ['Farooq', 'ur', 'Rehman']\n",
      "splitlines() >> ['Hello ', 'World']\n",
      "startswith() >> True\n",
      "strip()      >> Farooq  ur  Rehman\n",
      "swapcase()   >>  fAROOQ  UR  rEHMAN \n",
      "title()      >>  Farooq  Ur  Rehman \n",
      "translate()  >>  Farooq  ur  Rehman \n",
      "upper()      >>  FAROOQ  UR  REHMAN \n",
      "zfill()      >>  Farooq  ur  Rehman \n"
     ]
    }
   ],
   "source": [
    "print(\"split()      >> \" + str(name.split()))\n",
    "print(\"splitlines() >> \" + str(\"Hello \\rWorld\".splitlines()))\n",
    "print(\"startswith() >> \" + str(name.startswith(\" \")))\n",
    "print(\"strip()      >> \" + str(name.strip()))\n",
    "print(\"swapcase()   >> \" + str(name.swapcase()))\n",
    "print(\"title()      >> \" + str(name.title()))\n",
    "print(\"translate()  >> \" + str(name.translate(\"Far\")))\n",
    "print(\"upper()      >> \" + str(name.upper()))\n",
    "print(\"zfill()      >> \" + str(name.zfill(0)))"
   ]
  },
  {
   "cell_type": "code",
   "execution_count": null,
   "metadata": {},
   "outputs": [],
   "source": []
  }
 ],
 "metadata": {
  "kernelspec": {
   "display_name": "Python 3",
   "language": "python",
   "name": "python3"
  },
  "language_info": {
   "codemirror_mode": {
    "name": "ipython",
    "version": 3
   },
   "file_extension": ".py",
   "mimetype": "text/x-python",
   "name": "python",
   "nbconvert_exporter": "python",
   "pygments_lexer": "ipython3",
   "version": "3.7.0"
  }
 },
 "nbformat": 4,
 "nbformat_minor": 2
}
