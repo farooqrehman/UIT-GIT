{
 "cells": [
  {
   "cell_type": "code",
   "execution_count": null,
   "metadata": {},
   "outputs": [],
   "source": [
    "# %load assignment5_all_wordcount.py\n",
    "\"\"\"Wordcount exercise\n",
    "Python class\n",
    "\n",
    "The main() below is already defined and complete. It calls print_words()\n",
    "and print_top() functions which you write.\n",
    "\n",
    "1. For the --count flag, implement a print_words(filename) function that counts\n",
    "how often each word appears in the text and prints:\n",
    "word1 count1\n",
    "word2 count2\n",
    "...\n",
    "\n",
    "Print the above list in order sorted by word (python will sort punctuation to\n",
    "come before letters -- that's fine). Store all the words as lowercase,\n",
    "so 'The' and 'the' count as the same word.\n",
    "\n",
    "2. For the --topcount flag, implement a print_top(filename) which is similar\n",
    "to print_words() but which prints just the top 20 most common words sorted\n",
    "so the most common word is first, then the next most common, and so on.\n",
    "\n",
    "Use str.split() (no arguments) to split on all whitespace.\n",
    "\n",
    "Workflow: don't build the whole program at once. Get it to an intermediate\n",
    "milestone and print your data structure and sys.exit(0).\n",
    "When that's working, try for the next milestone.\n",
    "\n",
    "Optional: define a helper function to avoid code duplication inside\n",
    "print_words() and print_top().\n",
    "\n",
    "\"\"\"\n",
    "\n",
    "# Define print_words(filename) and print_top(filename) functions.\n",
    "# You could write a helper utility function that reads a file\n",
    "# and builds and returns a word/count dict for it.\n",
    "# Then print_words() and print_top() can just call the utility function.\n"
   ]
  },
  {
   "cell_type": "code",
   "execution_count": 3,
   "metadata": {
    "scrolled": false
   },
   "outputs": [],
   "source": [
    "import sys\n",
    "\n",
    "\n",
    "def list_first_element(w_list):\n",
    "    return w_list[0]\n",
    "\n",
    "def print_words(filename) :\n",
    "    file = open(filename,\"r\")\n",
    "\n",
    "    lines=file.readlines()\n",
    "\n",
    "    word_list = []\n",
    "    new_word = []\n",
    "    for line in lines:\n",
    "        line_word_list = str(line).split()\n",
    "        for line_word in line_word_list:\n",
    "            add_word=\"true\"\n",
    "            for word in word_list:\n",
    "                if line_word.lower() == word[0].lower() :\n",
    "                    word[1]=word[1]+1\n",
    "                    add_word=\"false\"\n",
    "                    break\n",
    "\n",
    "            if add_word==\"true\":        \n",
    "                new_word=[]\n",
    "                new_word.append(line_word.lower())\n",
    "                new_word.append(1)    \n",
    "                word_list.append(new_word)\n",
    "\n",
    "    sorted_word_list=sorted(word_list,key=list_first_element)\n",
    "    \n",
    "    for word in sorted_word_list:\n",
    "        print(word[0] + \" : \" + str(word[1]))\n",
    "    file.close()\n",
    "    \n",
    " "
   ]
  },
  {
   "cell_type": "code",
   "execution_count": 4,
   "metadata": {},
   "outputs": [
    {
     "name": "stdout",
     "output_type": "stream",
     "text": [
      "-- : 1\n",
      "are : 3\n",
      "at : 1\n",
      "be : 3\n",
      "but : 1\n",
      "coach : 1\n",
      "football : 1\n",
      "least : 1\n",
      "need : 1\n",
      "not : 3\n",
      "should : 1\n",
      "to : 2\n",
      "used : 1\n",
      "we : 6\n",
      "what : 3\n"
     ]
    }
   ],
   "source": [
    "print_words(\"small.txt\")"
   ]
  },
  {
   "cell_type": "code",
   "execution_count": 5,
   "metadata": {},
   "outputs": [],
   "source": [
    "def list_last_element(w_list):\n",
    "    return w_list[-1]\n",
    "\n",
    "def print_top(filename):\n",
    "    file = open(filename,\"r\")\n",
    "\n",
    "    lines=file.readlines()\n",
    "\n",
    "    word_list = []\n",
    "    new_word = []\n",
    "    for line in lines:\n",
    "        line_word_list = str(line).split()\n",
    "        for line_word in line_word_list:\n",
    "            add_word=\"true\"\n",
    "            for word in word_list:\n",
    "                if line_word.lower() == word[0].lower() :\n",
    "                    word[1]=word[1]+1\n",
    "                    add_word=\"false\"\n",
    "                    break\n",
    "\n",
    "            if add_word==\"true\":        \n",
    "                new_word=[]\n",
    "                new_word.append(line_word.lower())\n",
    "                new_word.append(1)    \n",
    "                word_list.append(new_word)\n",
    "\n",
    "    sorted_word_list=sorted(word_list,key=list_last_element,reverse=True)\n",
    "    \n",
    "    for word in sorted_word_list:\n",
    "        print(word[0] + \" : \" + str(word[1]))\n",
    "    file.close()\n"
   ]
  },
  {
   "cell_type": "code",
   "execution_count": 6,
   "metadata": {},
   "outputs": [
    {
     "name": "stdout",
     "output_type": "stream",
     "text": [
      "we : 6\n",
      "are : 3\n",
      "not : 3\n",
      "what : 3\n",
      "be : 3\n",
      "to : 2\n",
      "should : 1\n",
      "need : 1\n",
      "but : 1\n",
      "at : 1\n",
      "least : 1\n",
      "used : 1\n",
      "-- : 1\n",
      "football : 1\n",
      "coach : 1\n"
     ]
    }
   ],
   "source": [
    "print_top(\"small.txt\")"
   ]
  },
  {
   "cell_type": "code",
   "execution_count": 7,
   "metadata": {},
   "outputs": [
    {
     "name": "stdout",
     "output_type": "stream",
     "text": [
      "unknown option: -f\n",
      "['/home/farooq/anaconda3/lib/python3.7/site-packages/ipykernel_launcher.py', '-f', '/run/user/1000/jupyter/kernel-80477f22-6474-43ff-8758-f195f09e093b.json']\n"
     ]
    },
    {
     "ename": "SystemExit",
     "evalue": "1",
     "output_type": "error",
     "traceback": [
      "An exception has occurred, use %tb to see the full traceback.\n",
      "\u001b[0;31mSystemExit\u001b[0m\u001b[0;31m:\u001b[0m 1\n"
     ]
    },
    {
     "name": "stderr",
     "output_type": "stream",
     "text": [
      "/home/farooq/anaconda3/lib/python3.7/site-packages/IPython/core/interactiveshell.py:2969: UserWarning: To exit: use 'exit', 'quit', or Ctrl-D.\n",
      "  warn(\"To exit: use 'exit', 'quit', or Ctrl-D.\", stacklevel=1)\n"
     ]
    }
   ],
   "source": [
    "# This basic command line argument parsing code is provided and\n",
    "# calls the print_words() and print_top() functions which you must define.\n",
    "\n",
    "def main():\n",
    "  if len(sys.argv) != 3:\n",
    "    print ('usage: ./wordcount.py {--count | --topcount} file')\n",
    "    sys.exit(1)\n",
    "\n",
    "  option = sys.argv[1]\n",
    "  filename = sys.argv[2]\n",
    "  if option == '--count':\n",
    "    print_words(filename)\n",
    "  elif option == '--topcount':\n",
    "    print_top(filename)\n",
    "  else:\n",
    "    print ('unknown option: ' + option)\n",
    "    print(sys.argv)\n",
    "    sys.exit(1)\n",
    "\n",
    "if __name__ == '__main__':\n",
    "  main()\n"
   ]
  },
  {
   "cell_type": "code",
   "execution_count": null,
   "metadata": {},
   "outputs": [],
   "source": []
  },
  {
   "cell_type": "code",
   "execution_count": null,
   "metadata": {},
   "outputs": [],
   "source": []
  }
 ],
 "metadata": {
  "kernelspec": {
   "display_name": "Python 3",
   "language": "python",
   "name": "python3"
  },
  "language_info": {
   "codemirror_mode": {
    "name": "ipython",
    "version": 3
   },
   "file_extension": ".py",
   "mimetype": "text/x-python",
   "name": "python",
   "nbconvert_exporter": "python",
   "pygments_lexer": "ipython3",
   "version": "3.7.0"
  }
 },
 "nbformat": 4,
 "nbformat_minor": 2
}
